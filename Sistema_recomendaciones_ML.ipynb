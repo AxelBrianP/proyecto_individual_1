{
 "cells": [
  {
   "cell_type": "code",
   "execution_count": 1,
   "metadata": {},
   "outputs": [],
   "source": [
    "import pandas as pd\n",
    "from surprise import Dataset\n",
    "from surprise import Reader\n",
    "from surprise.model_selection import train_test_split\n",
    "from surprise import accuracy\n",
    "from surprise import SVD"
   ]
  },
  {
   "cell_type": "code",
   "execution_count": 2,
   "metadata": {},
   "outputs": [],
   "source": [
    "peliculas_ratings = pd.read_csv('../PI_1/Datos/Peliculas_Ratings.csv')\n",
    "usuarios_ratings = pd.read_csv('../PI_1/Datos/Usuarios_Ratings.csv')"
   ]
  },
  {
   "attachments": {},
   "cell_type": "markdown",
   "metadata": {},
   "source": [
    "# Comenzemos con nuestro sistema de ML"
   ]
  },
  {
   "attachments": {},
   "cell_type": "markdown",
   "metadata": {},
   "source": [
    "Primero extraemos peliculas y titulos"
   ]
  },
  {
   "cell_type": "code",
   "execution_count": 5,
   "metadata": {},
   "outputs": [
    {
     "name": "stdout",
     "output_type": "stream",
     "text": [
      "Peliculas\n",
      "-------------------------------------------------------------\n",
      "  movieId                 title\n",
      "0     as1   the grand seduction\n",
      "1     as2  take care good night\n",
      "2     as3  secrets of deception\n",
      "-------------------------------------------------------------\n"
     ]
    }
   ],
   "source": [
    "\n",
    "peliculas = peliculas_ratings[['id','title']]\n",
    "peliculas = peliculas.rename(columns={'id':'movieId'})\n",
    "print('Peliculas\\n-------------------------------------------------------------')\n",
    "print(peliculas.head(3))\n",
    "print('-------------------------------------------------------------')"
   ]
  },
  {
   "cell_type": "code",
   "execution_count": 7,
   "metadata": {},
   "outputs": [
    {
     "name": "stdout",
     "output_type": "stream",
     "text": [
      "Usuarios\n",
      "-------------------------------------------------------------\n",
      "   userId  score movieId\n",
      "0       1    1.0   as680\n",
      "1       1    4.5  ns2186\n",
      "2       1    5.0  hs2381\n",
      "-------------------------------------------------------------\n"
     ]
    }
   ],
   "source": [
    "#Usuarios que dieron una calificacion\n",
    "print('Usuarios\\n-------------------------------------------------------------')\n",
    "usuarios = usuarios_ratings.drop(columns=['timestamp'])\n",
    "print(usuarios.head(3))\n",
    "print('-------------------------------------------------------------')"
   ]
  },
  {
   "attachments": {},
   "cell_type": "markdown",
   "metadata": {},
   "source": [
    "Agrupamos peliculas por cantidad de calificaciones, lo que tomaremos como vistas"
   ]
  },
  {
   "cell_type": "code",
   "execution_count": 8,
   "metadata": {},
   "outputs": [
    {
     "name": "stdout",
     "output_type": "stream",
     "text": [
      "Peliculas por popularidad\n",
      "-------------------------------------------------------------\n",
      "  movieId  vistas                             title\n",
      "0  as4197     576                 from other worlds\n",
      "1  as9065     560                  the organization\n",
      "2  ns7279     558  leapfrog: sing-along, read-along\n",
      "3   as848     558                         superbook\n",
      "4  hs2360     556                          dietland\n",
      "-------------------------------------------------------------\n"
     ]
    }
   ],
   "source": [
    "print('Peliculas por popularidad\\n-------------------------------------------------------------')\n",
    "#Agrupamos peliculas por cantidad de calificaciones y reseteamos el indice\n",
    "vistas = usuarios[['movieId','score']].groupby(['movieId']).count().reset_index()\n",
    "#Renombramos la cantidad de calificaciones como vistas\n",
    "vistas.rename(columns = {'score':'vistas'}, inplace = (True))\n",
    "#Ordenamos\n",
    "vistas.sort_values(['vistas'], ascending = False, inplace = True)\n",
    "#Les agregamos el titulo de las peliculas\n",
    "vistas = pd.merge(vistas,peliculas,on='movieId')\n",
    "print(vistas.head())"
   ]
  },
  {
   "cell_type": "code",
   "execution_count": 14,
   "metadata": {},
   "outputs": [
    {
     "data": {
      "text/plain": [
       "479"
      ]
     },
     "execution_count": 14,
     "metadata": {},
     "output_type": "execute_result"
    }
   ],
   "source": [
    "int(vistas.vistas.mean())"
   ]
  },
  {
   "attachments": {},
   "cell_type": "markdown",
   "metadata": {},
   "source": [
    "Detectamos peliculas con pocas vistas"
   ]
  },
  {
   "cell_type": "code",
   "execution_count": 15,
   "metadata": {},
   "outputs": [
    {
     "name": "stdout",
     "output_type": "stream",
     "text": [
      "Vistas máximas: 576\n",
      "Vistas máximas: 396\n",
      "Promedio de vistas: 479 . Este determinará hasta cuando una pelicula se clasifica con pocas vistas\n"
     ]
    }
   ],
   "source": [
    "print('Vistas máximas:',vistas.vistas.max())\n",
    "print('Vistas máximas:',vistas.vistas.min())\n",
    "print('Promedio de vistas:',int(vistas.vistas.mean()), '. Este determinará hasta cuando una pelicula se clasifica con pocas vistas')\n",
    "umbral = int(vistas.vistas.mean())\n",
    "mascara_pocos_vistos = vistas[vistas['vistas']<umbral]"
   ]
  },
  {
   "cell_type": "code",
   "execution_count": 16,
   "metadata": {},
   "outputs": [],
   "source": [
    "#Extraemos el indice de las peliuclas que se clasifican con pocos vistos\n",
    "peliculas_pocos_vistos = mascara_pocos_vistos.index.values"
   ]
  },
  {
   "cell_type": "code",
   "execution_count": 19,
   "metadata": {},
   "outputs": [],
   "source": [
    "#Invocamos Reader class de la libreria surplrise, que se encargara de analizar archivos que contienen calificaciones\n",
    "reader = Reader()"
   ]
  },
  {
   "cell_type": "code",
   "execution_count": 20,
   "metadata": {},
   "outputs": [],
   "source": [
    "#Usamos el metodo de clase load_from_df de surprise para cargar un conjunto de datos de pandas, a la clase Reader()\n",
    "data = Dataset.load_from_df(usuarios[['userId','movieId','score']], reader)"
   ]
  },
  {
   "cell_type": "code",
   "execution_count": null,
   "metadata": {},
   "outputs": [],
   "source": [
    "# Separamos nuestros datos\n",
    "trainset, testset = train_test_split(data, test_size=.25)\n",
    "# Usaremos un modelo de Singular Value Decomposition\n",
    "model = SVD()\n",
    "# Entrenamos el modelo\n",
    "model.fit(trainset)\n",
    "# Predecimos\n",
    "predictions = model.test(testset)"
   ]
  },
  {
   "cell_type": "code",
   "execution_count": null,
   "metadata": {},
   "outputs": [],
   "source": [
    "#Creamos una lista para validar que el usuario existe en nuestra funcion\n",
    "users = usuarios_ratings.userId.unique()\n",
    "users = list(users)"
   ]
  },
  {
   "cell_type": "code",
   "execution_count": null,
   "metadata": {},
   "outputs": [],
   "source": [
    "def recomendacion_peliculas(id_usuario):\n",
    "\n",
    "    if type(id_usuario) != int:\n",
    "        return {'Por favor ingrese un numero entero, entre los valores (1 - 124380)'}\n",
    "    #Verificamos que exita el usuario ingresado\n",
    "    if id_usuario not in users:\n",
    "        return {'El usuario ingresado no existe, por favor ingrese otro id, entre los valores (1 - 124380)'}\n",
    "\n",
    "    recomendaciones_usuario = peliculas\n",
    "    #Definimos las peliculas que ya vio en uan nueva variable\n",
    "    usuario_vistas = usuarios[usuarios['userId'] == id_usuario]\n",
    "    #Quitamos las peliculas con pocas vistas de nuestros datos\n",
    "    for i in peliculas_pocos_vistos:\n",
    "        if i in (recomendaciones_usuario.index.values):\n",
    "            recomendaciones_usuario.drop(i,inplace=True)\n",
    "    #Agregamos las recomendaciones que predijo nuestro modelo\n",
    "    recomendaciones_usuario['Estimate_Score'] = recomendaciones_usuario['movieId'].apply(lambda x: model.predict(id_usuario, x).est)\n",
    "    #Ordenamos segun la valoracion del usuario predicha para la pelicula recomendada\n",
    "    recomendaciones_usuario = recomendaciones_usuario.sort_values('Estimate_Score', ascending=False)\n",
    "    return print('Las siguientes peliculas son las recomendadas para el usuario id', id_usuario,'\\n-------------------------------------------------------------\\n',recomendaciones_usuario.head(10),'\\n-------------------------------------------------------------\\nEl rmse es de',accuracy.rmse(predictions))"
   ]
  },
  {
   "cell_type": "code",
   "execution_count": null,
   "metadata": {},
   "outputs": [],
   "source": [
    "recomendacion_peliculas()"
   ]
  }
 ],
 "metadata": {
  "kernelspec": {
   "display_name": "Python 3",
   "language": "python",
   "name": "python3"
  },
  "language_info": {
   "codemirror_mode": {
    "name": "ipython",
    "version": 3
   },
   "file_extension": ".py",
   "mimetype": "text/x-python",
   "name": "python",
   "nbconvert_exporter": "python",
   "pygments_lexer": "ipython3",
   "version": "3.11.0"
  },
  "orig_nbformat": 4,
  "vscode": {
   "interpreter": {
    "hash": "f499df7a54c0deed1a7925f858db336b8e27d4fc1747232e46a456dcc85dbf9f"
   }
  }
 },
 "nbformat": 4,
 "nbformat_minor": 2
}
